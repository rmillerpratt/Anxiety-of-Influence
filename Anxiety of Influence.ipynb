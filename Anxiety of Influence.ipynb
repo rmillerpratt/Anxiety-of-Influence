{
 "cells": [
  {
   "cell_type": "markdown",
   "metadata": {},
   "source": [
    "# Analysis of 19th Century Fantastic Works into Spanish"
   ]
  },
  {
   "cell_type": "code",
   "execution_count": 1,
   "metadata": {},
   "outputs": [],
   "source": [
    "import pandas as pd\n",
    "import numpy as np\n",
    "import matplotlib.pyplot as plt"
   ]
  },
  {
   "cell_type": "code",
   "execution_count": 2,
   "metadata": {},
   "outputs": [],
   "source": [
    "%matplotlib inline"
   ]
  },
  {
   "cell_type": "code",
   "execution_count": 3,
   "metadata": {},
   "outputs": [
    {
     "data": {
      "text/html": [
       "<div>\n",
       "<style scoped>\n",
       "    .dataframe tbody tr th:only-of-type {\n",
       "        vertical-align: middle;\n",
       "    }\n",
       "\n",
       "    .dataframe tbody tr th {\n",
       "        vertical-align: top;\n",
       "    }\n",
       "\n",
       "    .dataframe thead th {\n",
       "        text-align: right;\n",
       "    }\n",
       "</style>\n",
       "<table border=\"1\" class=\"dataframe\">\n",
       "  <thead>\n",
       "    <tr style=\"text-align: right;\">\n",
       "      <th></th>\n",
       "      <th>publisher</th>\n",
       "      <th>_column</th>\n",
       "      <th>last_name</th>\n",
       "      <th>first_name</th>\n",
       "      <th>year_pub</th>\n",
       "      <th>title</th>\n",
       "      <th>cartodb_id</th>\n",
       "      <th>pub_location</th>\n",
       "      <th>latitude</th>\n",
       "      <th>longitude</th>\n",
       "      <th>org_year_pub</th>\n",
       "      <th>title_org_lang</th>\n",
       "      <th>org_pub_country</th>\n",
       "      <th>org_pub_city</th>\n",
       "    </tr>\n",
       "  </thead>\n",
       "  <tbody>\n",
       "    <tr>\n",
       "      <th>0</th>\n",
       "      <td>Oficina de Juan Alzine</td>\n",
       "      <td>128</td>\n",
       "      <td>Claris De Florian</td>\n",
       "      <td>Jean Pierre</td>\n",
       "      <td>1800-01-01</td>\n",
       "      <td>Novelas nuevas</td>\n",
       "      <td>129</td>\n",
       "      <td>Perpiñán</td>\n",
       "      <td>42.698530</td>\n",
       "      <td>2.895312</td>\n",
       "      <td>1792.0</td>\n",
       "      <td>Nouvelles nouvelles</td>\n",
       "      <td>France</td>\n",
       "      <td>París</td>\n",
       "    </tr>\n",
       "    <tr>\n",
       "      <th>1</th>\n",
       "      <td>María Eugenia Villagordo</td>\n",
       "      <td>129</td>\n",
       "      <td>Claris De Florian</td>\n",
       "      <td>Jean Pierre</td>\n",
       "      <td>1800-01-01</td>\n",
       "      <td>Novelas nuevas</td>\n",
       "      <td>130</td>\n",
       "      <td>Salamanca</td>\n",
       "      <td>40.965157</td>\n",
       "      <td>-5.664018</td>\n",
       "      <td>1792.0</td>\n",
       "      <td>Nouvelles nouvelles</td>\n",
       "      <td>France</td>\n",
       "      <td>París</td>\n",
       "    </tr>\n",
       "    <tr>\n",
       "      <th>2</th>\n",
       "      <td>Toxar</td>\n",
       "      <td>46</td>\n",
       "      <td>Helme</td>\n",
       "      <td>Elizabeth</td>\n",
       "      <td>1803-01-01</td>\n",
       "      <td>Luisa o la cabaña en el valle</td>\n",
       "      <td>47</td>\n",
       "      <td>Salamanca</td>\n",
       "      <td>40.965157</td>\n",
       "      <td>-5.664018</td>\n",
       "      <td>1787.0</td>\n",
       "      <td>Louise or The Cottage on the Moor</td>\n",
       "      <td>UK</td>\n",
       "      <td>London</td>\n",
       "    </tr>\n",
       "    <tr>\n",
       "      <th>3</th>\n",
       "      <td>NaN</td>\n",
       "      <td>137</td>\n",
       "      <td>Saint-lambert</td>\n",
       "      <td>Jean-François</td>\n",
       "      <td>1803-01-01</td>\n",
       "      <td>Colección de cuentos morales que contiene el Z...</td>\n",
       "      <td>138</td>\n",
       "      <td>Madrid</td>\n",
       "      <td>40.416705</td>\n",
       "      <td>-3.703582</td>\n",
       "      <td>1769.0</td>\n",
       "      <td>Ziméo</td>\n",
       "      <td>Netherlands</td>\n",
       "      <td>Amsterdam</td>\n",
       "    </tr>\n",
       "    <tr>\n",
       "      <th>4</th>\n",
       "      <td>Antonio Cruzado</td>\n",
       "      <td>143</td>\n",
       "      <td>Meissner</td>\n",
       "      <td>Auguste Gottlieb</td>\n",
       "      <td>1803-01-01</td>\n",
       "      <td>Memorias de Blanca Capello</td>\n",
       "      <td>144</td>\n",
       "      <td>Madrid</td>\n",
       "      <td>40.416705</td>\n",
       "      <td>-3.703582</td>\n",
       "      <td>1785.0</td>\n",
       "      <td>Bianka Capello</td>\n",
       "      <td>Germany</td>\n",
       "      <td>Mannheim</td>\n",
       "    </tr>\n",
       "  </tbody>\n",
       "</table>\n",
       "</div>"
      ],
      "text/plain": [
       "                  publisher  _column          last_name        first_name  \\\n",
       "0    Oficina de Juan Alzine      128  Claris De Florian       Jean Pierre   \n",
       "1  María Eugenia Villagordo      129  Claris De Florian       Jean Pierre   \n",
       "2                     Toxar       46              Helme         Elizabeth   \n",
       "3                       NaN      137      Saint-lambert     Jean-François   \n",
       "4           Antonio Cruzado      143           Meissner  Auguste Gottlieb   \n",
       "\n",
       "    year_pub                                              title  cartodb_id  \\\n",
       "0 1800-01-01                                     Novelas nuevas         129   \n",
       "1 1800-01-01                                     Novelas nuevas         130   \n",
       "2 1803-01-01                      Luisa o la cabaña en el valle          47   \n",
       "3 1803-01-01  Colección de cuentos morales que contiene el Z...         138   \n",
       "4 1803-01-01                         Memorias de Blanca Capello         144   \n",
       "\n",
       "  pub_location   latitude  longitude  org_year_pub  \\\n",
       "0     Perpiñán  42.698530   2.895312        1792.0   \n",
       "1    Salamanca  40.965157  -5.664018        1792.0   \n",
       "2    Salamanca  40.965157  -5.664018        1787.0   \n",
       "3       Madrid  40.416705  -3.703582        1769.0   \n",
       "4       Madrid  40.416705  -3.703582        1785.0   \n",
       "\n",
       "                      title_org_lang org_pub_country org_pub_city  \n",
       "0                Nouvelles nouvelles          France        París  \n",
       "1                Nouvelles nouvelles          France        París  \n",
       "2  Louise or The Cottage on the Moor              UK       London  \n",
       "3                              Ziméo     Netherlands    Amsterdam  \n",
       "4                     Bianka Capello         Germany     Mannheim  "
      ]
     },
     "execution_count": 3,
     "metadata": {},
     "output_type": "execute_result"
    }
   ],
   "source": [
    "translist=pd.read_csv(\"2018_13_12_AoI_1_textonly.csv\",parse_dates=['year_pub'])\n",
    "translist.head()"
   ]
  },
  {
   "cell_type": "code",
   "execution_count": 4,
   "metadata": {},
   "outputs": [
    {
     "data": {
      "text/plain": [
       "publisher                  object\n",
       "_column                     int64\n",
       "last_name                  object\n",
       "first_name                 object\n",
       "year_pub           datetime64[ns]\n",
       "title                      object\n",
       "cartodb_id                  int64\n",
       "pub_location               object\n",
       "latitude                  float64\n",
       "longitude                 float64\n",
       "org_year_pub              float64\n",
       "title_org_lang             object\n",
       "org_pub_country            object\n",
       "org_pub_city               object\n",
       "dtype: object"
      ]
     },
     "execution_count": 4,
     "metadata": {},
     "output_type": "execute_result"
    }
   ],
   "source": [
    "translist.dtypes"
   ]
  },
  {
   "cell_type": "code",
   "execution_count": 5,
   "metadata": {},
   "outputs": [
    {
     "data": {
      "text/html": [
       "<div>\n",
       "<style scoped>\n",
       "    .dataframe tbody tr th:only-of-type {\n",
       "        vertical-align: middle;\n",
       "    }\n",
       "\n",
       "    .dataframe tbody tr th {\n",
       "        vertical-align: top;\n",
       "    }\n",
       "\n",
       "    .dataframe thead th {\n",
       "        text-align: right;\n",
       "    }\n",
       "</style>\n",
       "<table border=\"1\" class=\"dataframe\">\n",
       "  <thead>\n",
       "    <tr style=\"text-align: right;\">\n",
       "      <th></th>\n",
       "      <th>last_name</th>\n",
       "      <th>pub_location</th>\n",
       "      <th>year_pub</th>\n",
       "    </tr>\n",
       "  </thead>\n",
       "  <tbody>\n",
       "    <tr>\n",
       "      <th>0</th>\n",
       "      <td>Claris De Florian</td>\n",
       "      <td>Perpiñán</td>\n",
       "      <td>1800-01-01</td>\n",
       "    </tr>\n",
       "    <tr>\n",
       "      <th>1</th>\n",
       "      <td>Claris De Florian</td>\n",
       "      <td>Salamanca</td>\n",
       "      <td>1800-01-01</td>\n",
       "    </tr>\n",
       "    <tr>\n",
       "      <th>2</th>\n",
       "      <td>Helme</td>\n",
       "      <td>Salamanca</td>\n",
       "      <td>1803-01-01</td>\n",
       "    </tr>\n",
       "    <tr>\n",
       "      <th>3</th>\n",
       "      <td>Saint-lambert</td>\n",
       "      <td>Madrid</td>\n",
       "      <td>1803-01-01</td>\n",
       "    </tr>\n",
       "    <tr>\n",
       "      <th>4</th>\n",
       "      <td>Meissner</td>\n",
       "      <td>Madrid</td>\n",
       "      <td>1803-01-01</td>\n",
       "    </tr>\n",
       "  </tbody>\n",
       "</table>\n",
       "</div>"
      ],
      "text/plain": [
       "           last_name pub_location   year_pub\n",
       "0  Claris De Florian     Perpiñán 1800-01-01\n",
       "1  Claris De Florian    Salamanca 1800-01-01\n",
       "2              Helme    Salamanca 1803-01-01\n",
       "3      Saint-lambert       Madrid 1803-01-01\n",
       "4           Meissner       Madrid 1803-01-01"
      ]
     },
     "execution_count": 5,
     "metadata": {},
     "output_type": "execute_result"
    }
   ],
   "source": [
    "authors = translist[['last_name','pub_location','year_pub']]\n",
    "authors.head()"
   ]
  },
  {
   "cell_type": "code",
   "execution_count": 6,
   "metadata": {},
   "outputs": [
    {
     "data": {
      "text/plain": [
       "last_name\n",
       "Andersen                                                8\n",
       "Anonymous                                               1\n",
       "Baculard d'Arnaud                                       2\n",
       "Balzac, de                                             19\n",
       "Bell                                                    1\n",
       "Blanchard                                               3\n",
       "Brayer De Saint-léon                                    5\n",
       "Bulwer-lytton                                           1\n",
       "Bürger                                                  5\n",
       "Cazotte                                                 1\n",
       "Chaussier                                               2\n",
       "Claris De Florian                                       5\n",
       "Condesa De Genlis                                       7\n",
       "Condesa De Rouault De La Haye (condesa De Nardouet)     2\n",
       "Condesa d'Aulnoy                                        3\n",
       "Cuthbertson                                             2\n",
       "Dickens                                                10\n",
       "Dumas                                                  17\n",
       "Dumas (Hijo)                                            1\n",
       "Erckmann / Chatrian                                     8\n",
       "Fielding                                                3\n",
       "Gautier                                                14\n",
       "Goethe                                                 16\n",
       "Gozlan                                                  2\n",
       "Grimm                                                  15\n",
       "Gueullette                                              1\n",
       "Guénard (baronne De Méré)                               1\n",
       "Hawthorne                                              15\n",
       "Helme                                                   7\n",
       "Hoffmann                                               20\n",
       "                                                       ..\n",
       "Maupassant                                              2\n",
       "Meissner                                                1\n",
       "Moore                                                   1\n",
       "Murray                                                  1\n",
       "Mérimée                                                 1\n",
       "Naubert                                                 1\n",
       "Nieritz                                                 1\n",
       "Nodier                                                 25\n",
       "Perrault                                               14\n",
       "Pigault-Lebrun                                          4\n",
       "Poe                                                    39\n",
       "Polidori                                                4\n",
       "Radcliffe                                              16\n",
       "Reeve                                                   1\n",
       "Regnalt-Warin                                           2\n",
       "Richardson                                              1\n",
       "Richter                                                 5\n",
       "Rivière                                                 1\n",
       "Roche                                                  10\n",
       "Saint-lambert                                           1\n",
       "Sand                                                    4\n",
       "Schubart                                                1\n",
       "Scott                                                  26\n",
       "Soulié                                                 13\n",
       "Sue                                                    32\n",
       "Tschink                                                 1\n",
       "Verne                                                   2\n",
       "Vizconde d'Arlincourt                                  10\n",
       "Von Chamisso                                            1\n",
       "Zschokke                                                3\n",
       "Length: 70, dtype: int64"
      ]
     },
     "execution_count": 6,
     "metadata": {},
     "output_type": "execute_result"
    }
   ],
   "source": [
    "author_group = authors.groupby('last_name')\n",
    "author_group.size()"
   ]
  },
  {
   "cell_type": "code",
   "execution_count": 7,
   "metadata": {},
   "outputs": [
    {
     "data": {
      "text/html": [
       "<div>\n",
       "<style scoped>\n",
       "    .dataframe tbody tr th:only-of-type {\n",
       "        vertical-align: middle;\n",
       "    }\n",
       "\n",
       "    .dataframe tbody tr th {\n",
       "        vertical-align: top;\n",
       "    }\n",
       "\n",
       "    .dataframe thead th {\n",
       "        text-align: right;\n",
       "    }\n",
       "</style>\n",
       "<table border=\"1\" class=\"dataframe\">\n",
       "  <thead>\n",
       "    <tr style=\"text-align: right;\">\n",
       "      <th></th>\n",
       "      <th>last_name</th>\n",
       "      <th>pub_location</th>\n",
       "      <th>year_pub</th>\n",
       "    </tr>\n",
       "  </thead>\n",
       "  <tbody>\n",
       "    <tr>\n",
       "      <th>0</th>\n",
       "      <td>Claris De Florian</td>\n",
       "      <td>Perpiñán</td>\n",
       "      <td>1800-01-01</td>\n",
       "    </tr>\n",
       "    <tr>\n",
       "      <th>1</th>\n",
       "      <td>Claris De Florian</td>\n",
       "      <td>Salamanca</td>\n",
       "      <td>1800-01-01</td>\n",
       "    </tr>\n",
       "    <tr>\n",
       "      <th>2</th>\n",
       "      <td>Helme</td>\n",
       "      <td>Salamanca</td>\n",
       "      <td>1803-01-01</td>\n",
       "    </tr>\n",
       "    <tr>\n",
       "      <th>3</th>\n",
       "      <td>Saint-lambert</td>\n",
       "      <td>Madrid</td>\n",
       "      <td>1803-01-01</td>\n",
       "    </tr>\n",
       "    <tr>\n",
       "      <th>4</th>\n",
       "      <td>Meissner</td>\n",
       "      <td>Madrid</td>\n",
       "      <td>1803-01-01</td>\n",
       "    </tr>\n",
       "  </tbody>\n",
       "</table>\n",
       "</div>"
      ],
      "text/plain": [
       "           last_name pub_location   year_pub\n",
       "0  Claris De Florian     Perpiñán 1800-01-01\n",
       "1  Claris De Florian    Salamanca 1800-01-01\n",
       "2              Helme    Salamanca 1803-01-01\n",
       "3      Saint-lambert       Madrid 1803-01-01\n",
       "4           Meissner       Madrid 1803-01-01"
      ]
     },
     "execution_count": 7,
     "metadata": {},
     "output_type": "execute_result"
    }
   ],
   "source": [
    "locations = translist[['last_name','pub_location','year_pub']]\n",
    "locations.head()"
   ]
  },
  {
   "cell_type": "code",
   "execution_count": 8,
   "metadata": {},
   "outputs": [
    {
     "data": {
      "text/plain": [
       "pub_location\n",
       "Alicante                      7\n",
       "Avignon                       1\n",
       "Barcelona                   119\n",
       "Cádiz                         8\n",
       "El Puerto de Santa María      1\n",
       "Gibraltar                     1\n",
       "Girona                        1\n",
       "Granada                       6\n",
       "Habana                        2\n",
       "La Coruña                     2\n",
       "Logroño                       2\n",
       "Madrid                      237\n",
       "Mataró                        1\n",
       "Málaga                        2\n",
       "México                        2\n",
       "New York                      1\n",
       "Palma de Mallorca             1\n",
       "París                        41\n",
       "Perpiñán                      3\n",
       "Pontevedra                    1\n",
       "Salamanca                     2\n",
       "Sevilla                       4\n",
       "Valencia                     26\n",
       "Valladolid                    2\n",
       "dtype: int64"
      ]
     },
     "execution_count": 8,
     "metadata": {},
     "output_type": "execute_result"
    }
   ],
   "source": [
    "locations_group = locations.groupby('pub_location')\n",
    "locations_group.size()"
   ]
  },
  {
   "cell_type": "code",
   "execution_count": 9,
   "metadata": {},
   "outputs": [
    {
     "data": {
      "text/html": [
       "<div>\n",
       "<style scoped>\n",
       "    .dataframe tbody tr th:only-of-type {\n",
       "        vertical-align: middle;\n",
       "    }\n",
       "\n",
       "    .dataframe tbody tr th {\n",
       "        vertical-align: top;\n",
       "    }\n",
       "\n",
       "    .dataframe thead th {\n",
       "        text-align: right;\n",
       "    }\n",
       "</style>\n",
       "<table border=\"1\" class=\"dataframe\">\n",
       "  <thead>\n",
       "    <tr style=\"text-align: right;\">\n",
       "      <th></th>\n",
       "      <th>last_name</th>\n",
       "      <th>pub_location</th>\n",
       "      <th>year_pub</th>\n",
       "    </tr>\n",
       "  </thead>\n",
       "  <tbody>\n",
       "    <tr>\n",
       "      <th>0</th>\n",
       "      <td>Claris De Florian</td>\n",
       "      <td>Perpiñán</td>\n",
       "      <td>1800-01-01</td>\n",
       "    </tr>\n",
       "    <tr>\n",
       "      <th>1</th>\n",
       "      <td>Claris De Florian</td>\n",
       "      <td>Salamanca</td>\n",
       "      <td>1800-01-01</td>\n",
       "    </tr>\n",
       "    <tr>\n",
       "      <th>2</th>\n",
       "      <td>Helme</td>\n",
       "      <td>Salamanca</td>\n",
       "      <td>1803-01-01</td>\n",
       "    </tr>\n",
       "    <tr>\n",
       "      <th>3</th>\n",
       "      <td>Saint-lambert</td>\n",
       "      <td>Madrid</td>\n",
       "      <td>1803-01-01</td>\n",
       "    </tr>\n",
       "    <tr>\n",
       "      <th>4</th>\n",
       "      <td>Meissner</td>\n",
       "      <td>Madrid</td>\n",
       "      <td>1803-01-01</td>\n",
       "    </tr>\n",
       "  </tbody>\n",
       "</table>\n",
       "</div>"
      ],
      "text/plain": [
       "           last_name pub_location   year_pub\n",
       "0  Claris De Florian     Perpiñán 1800-01-01\n",
       "1  Claris De Florian    Salamanca 1800-01-01\n",
       "2              Helme    Salamanca 1803-01-01\n",
       "3      Saint-lambert       Madrid 1803-01-01\n",
       "4           Meissner       Madrid 1803-01-01"
      ]
     },
     "execution_count": 9,
     "metadata": {},
     "output_type": "execute_result"
    }
   ],
   "source": [
    "year_patterns = translist[['last_name','pub_location','year_pub']]\n",
    "year_patterns.head()"
   ]
  },
  {
   "cell_type": "code",
   "execution_count": 10,
   "metadata": {},
   "outputs": [
    {
     "data": {
      "image/png": "[encoded data removed]",
      "text/plain": [
       "<Figure size 432x288 with 1 Axes>"
      ]
     },
     "metadata": {
      "needs_background": "light"
     },
     "output_type": "display_data"
    }
   ],
   "source": [
    "# Create a histogram of translations by year\n",
    "year_plot = year_patterns['year_pub'].hist(bins=20)\n",
    "year_plot.set_title(\"Publication Totals\")\n",
    "year_plot.set_xlabel(\"Year\")\n",
    "year_plot.set_ylabel(\"Number of translations\")\n",
    "fig = year_plot.get_figure()\n",
    "\n",
    "# Show the image, then save it\n",
    "plt.show()\n",
    "fig.savefig(\"translations1.png\")"
   ]
  },
  {
   "cell_type": "code",
   "execution_count": 11,
   "metadata": {},
   "outputs": [
    {
     "data": {
      "text/html": [
       "<div>\n",
       "<style scoped>\n",
       "    .dataframe tbody tr th:only-of-type {\n",
       "        vertical-align: middle;\n",
       "    }\n",
       "\n",
       "    .dataframe tbody tr th {\n",
       "        vertical-align: top;\n",
       "    }\n",
       "\n",
       "    .dataframe thead th {\n",
       "        text-align: right;\n",
       "    }\n",
       "</style>\n",
       "<table border=\"1\" class=\"dataframe\">\n",
       "  <thead>\n",
       "    <tr style=\"text-align: right;\">\n",
       "      <th></th>\n",
       "      <th>last_name</th>\n",
       "      <th>org_pub_country</th>\n",
       "      <th>year_pub</th>\n",
       "    </tr>\n",
       "  </thead>\n",
       "  <tbody>\n",
       "    <tr>\n",
       "      <th>0</th>\n",
       "      <td>Claris De Florian</td>\n",
       "      <td>France</td>\n",
       "      <td>1800-01-01</td>\n",
       "    </tr>\n",
       "    <tr>\n",
       "      <th>1</th>\n",
       "      <td>Claris De Florian</td>\n",
       "      <td>France</td>\n",
       "      <td>1800-01-01</td>\n",
       "    </tr>\n",
       "    <tr>\n",
       "      <th>2</th>\n",
       "      <td>Helme</td>\n",
       "      <td>UK</td>\n",
       "      <td>1803-01-01</td>\n",
       "    </tr>\n",
       "    <tr>\n",
       "      <th>3</th>\n",
       "      <td>Saint-lambert</td>\n",
       "      <td>Netherlands</td>\n",
       "      <td>1803-01-01</td>\n",
       "    </tr>\n",
       "    <tr>\n",
       "      <th>4</th>\n",
       "      <td>Meissner</td>\n",
       "      <td>Germany</td>\n",
       "      <td>1803-01-01</td>\n",
       "    </tr>\n",
       "  </tbody>\n",
       "</table>\n",
       "</div>"
      ],
      "text/plain": [
       "           last_name org_pub_country   year_pub\n",
       "0  Claris De Florian          France 1800-01-01\n",
       "1  Claris De Florian          France 1800-01-01\n",
       "2              Helme              UK 1803-01-01\n",
       "3      Saint-lambert     Netherlands 1803-01-01\n",
       "4           Meissner         Germany 1803-01-01"
      ]
     },
     "execution_count": 11,
     "metadata": {},
     "output_type": "execute_result"
    }
   ],
   "source": [
    "org_countries = translist[['last_name','org_pub_country','year_pub']]\n",
    "org_countries.head()"
   ]
  },
  {
   "cell_type": "code",
   "execution_count": 12,
   "metadata": {},
   "outputs": [
    {
     "data": {
      "text/plain": [
       "org_pub_country\n",
       "Austria          1\n",
       "Denmark          8\n",
       "France         226\n",
       "Germany         66\n",
       "Netherlands      1\n",
       "Switzerland      3\n",
       "UK              91\n",
       "USA             76\n",
       "dtype: int64"
      ]
     },
     "execution_count": 12,
     "metadata": {},
     "output_type": "execute_result"
    }
   ],
   "source": [
    "org_country_group = org_countries.groupby('org_pub_country')\n",
    "org_country_group.size()"
   ]
  },
  {
   "cell_type": "code",
   "execution_count": null,
   "metadata": {},
   "outputs": [],
   "source": []
  }
 ],
 "metadata": {
  "kernelspec": {
   "display_name": "Python 3",
   "language": "python",
   "name": "python3"
  },
  "language_info": {
   "codemirror_mode": {
    "name": "ipython",
    "version": 3
   },
   "file_extension": ".py",
   "mimetype": "text/x-python",
   "name": "python",
   "nbconvert_exporter": "python",
   "pygments_lexer": "ipython3",
   "version": "3.6.6"
  }
 },
 "nbformat": 4,
 "nbformat_minor": 2
}
